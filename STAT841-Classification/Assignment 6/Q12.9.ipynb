{
 "cells": [
  {
   "cell_type": "code",
   "execution_count": 111,
   "metadata": {},
   "outputs": [],
   "source": [
    "import pandas as pd\n",
    "import numpy as np\n",
    "import matplotlib.pyplot as plt\n",
    "import seaborn as sns\n",
    "import string\n",
    "from nltk.corpus import stopwords\n",
    "from nltk.tokenize import word_tokenize\n",
    "from nltk.stem.snowball import SnowballStemmer\n",
    "from sklearn.model_selection import train_test_split, GridSearchCV, StratifiedKFold\n",
    "from sklearn.svm import SVC, SVR\n",
    "from sklearn.metrics import accuracy_score, mean_squared_error\n",
    "from sklearn.preprocessing import MinMaxScaler\n",
    "\n",
    "### Part a\n",
    "# Generate a matrix of indicator n-grams from a matrix of words using an inclusion threshold of 5.\n",
    "def token_matrix(data, threshold, indicator):\n",
    "    new_data = pd.DataFrame(index=range(len(data)))\n",
    "    for n in range(len(data)):\n",
    "        for word in data[n]:\n",
    "            if word not in new_data.columns:\n",
    "                new_data[word] = 0\n",
    "            new_data[word].iloc[n] += 1\n",
    "    col = new_data.columns[(new_data.sum(axis=0) >= threshold) == True]\n",
    "    if indicator:\n",
    "        return (new_data[col] > 0).astype(int)\n",
    "    return new_data[col]\n",
    "\n",
    "# Create the data to fit the model on. Removes punctuation, normalizes to lower case letters and applies a stemmer.\n",
    "def process_text(threshold, indicator):\n",
    "    data = pd.read_csv('reviews.csv', usecols=['review__evaluation', 'review__text'], keep_default_na=False)\n",
    "    data = data[data['review__evaluation'] != ''] # Removes 3 rows without any review evaluation data\n",
    "    data.index = range(0, len(data.index))\n",
    "    \n",
    "    documents = []\n",
    "    word_counts = []\n",
    "    translations = dict((ord(char), \" \") for char in string.punctuation)\n",
    "    \n",
    "    stop_words = set(stopwords.words('spanish'))\n",
    "    stemmer = SnowballStemmer('spanish')\n",
    "    for i in data.index: \n",
    "        clean_text = data.loc[i, 'review__text'].translate(translations).lower()   \n",
    "        word_list = clean_text.split()\n",
    "        word_counts.append(len(word_list))  \n",
    "        words = [stemmer.stem(w) for w in word_list if w not in stop_words]      \n",
    "        documents.append(words)\n",
    "        \n",
    "    new_data = pd.concat([data['review__evaluation'].astype(int), pd.DataFrame({'word_count': word_counts}), token_matrix(documents, threshold, indicator)], axis=1)    \n",
    "    return new_data\n",
    "\n",
    "df = process_text(5, True)\n",
    "X_train, X_test, y_train, y_test = train_test_split(df.loc[:,df.columns!='review__evaluation'], df.loc[:,'review__evaluation'], test_size=.2, shuffle=True, random_state=1, stratify=df.loc[:,'review__evaluation'])"
   ]
  },
  {
   "cell_type": "code",
   "execution_count": 112,
   "metadata": {},
   "outputs": [
    {
     "name": "stdout",
     "output_type": "stream",
     "text": [
      "0.4567901234567901\n",
      "2.3580246913580245\n"
     ]
    }
   ],
   "source": [
    "## Part b)\n",
    "skf = StratifiedKFold(n_splits=5, shuffle=True, random_state=1)\n",
    "clf = GridSearchCV(SVC(), param_grid={'kernel':['linear'], 'C':[.1, .2, .5, 1, 2, 5], 'max_iter':[200000]}, scoring='accuracy', cv=skf.split(X_train, y_train), refit=True)              \n",
    "clf.fit(X_train, y_train)\n",
    "acc_scoreb = accuracy_score(y_test, clf.predict(X_test))\n",
    "mseb = mean_squared_error(y_test, clf.predict(X_test))\n",
    "\n",
    "print(acc_scoreb)\n",
    "print(mseb)\n"
   ]
  },
  {
   "cell_type": "code",
   "execution_count": 116,
   "metadata": {},
   "outputs": [
    {
     "name": "stdout",
     "output_type": "stream",
     "text": [
      "0.19753086419753085\n",
      "1.774031404510213\n"
     ]
    }
   ],
   "source": [
    "## Part c)\n",
    "clf = GridSearchCV(SVR(), param_grid={'kernel':['linear'], 'C':[.1, .2, .5, 1, 2], 'epsilon':[.5, 1, 2, 10], 'max_iter':[200000]}, scoring='neg_mean_squared_error', cv=skf.split(X_train, y_train), refit=True)              \n",
    "clf.fit(X_train, y_train)\n",
    "acc_scorec = accuracy_score(y_test, np.rint(clf.predict(X_test)))\n",
    "msec = mean_squared_error(y_test, clf.predict(X_test))\n",
    "\n",
    "print(acc_scorec)\n",
    "print(msec)"
   ]
  },
  {
   "cell_type": "code",
   "execution_count": 114,
   "metadata": {},
   "outputs": [
    {
     "name": "stdout",
     "output_type": "stream",
     "text": [
      "0.4691358024691358\n",
      "2.2098765432098766\n"
     ]
    }
   ],
   "source": [
    "## Part d)\n",
    "clf = GridSearchCV(SVC(), param_grid={'kernel':['linear'], 'C':[.1, .2, .5, 1, 2, 5], 'max_iter':[200000]}, scoring='neg_mean_squared_error', cv=skf.split(X_train, y_train), refit=True)              \n",
    "clf.fit(X_train, y_train)\n",
    "acc_scored = accuracy_score(y_test, np.rint(clf.predict(X_test)))\n",
    "msed = mean_squared_error(y_test, clf.predict(X_test))\n",
    "\n",
    "print(acc_scored)\n",
    "print(msed)"
   ]
  },
  {
   "cell_type": "code",
   "execution_count": 120,
   "metadata": {},
   "outputs": [],
   "source": [
    "from tabulate import tabulate\n",
    "print(tabulate({\"Model/Criteria\": ['SVC/Accuracy', 'SVR/MSE', 'SVC/MSE'], \n",
    "     \"Accuracy\": [acc_scoreb, acc_scorec, acc_scored],\n",
    "                'MSE': [mseb, msec, msed]},\n",
    "     headers=\"keys\"), file=open('Q12.9 output.txt', 'w'))"
   ]
  },
  {
   "cell_type": "code",
   "execution_count": null,
   "metadata": {},
   "outputs": [],
   "source": []
  }
 ],
 "metadata": {
  "kernelspec": {
   "display_name": "Python 3",
   "language": "python",
   "name": "python3"
  },
  "language_info": {
   "codemirror_mode": {
    "name": "ipython",
    "version": 3
   },
   "file_extension": ".py",
   "mimetype": "text/x-python",
   "name": "python",
   "nbconvert_exporter": "python",
   "pygments_lexer": "ipython3",
   "version": "3.8.5"
  }
 },
 "nbformat": 4,
 "nbformat_minor": 4
}
