{
 "cells": [
  {
   "cell_type": "markdown",
   "metadata": {},
   "source": []
  },
  {
   "cell_type": "code",
   "execution_count": 7,
   "metadata": {},
   "outputs": [
    {
     "data": {
      "image/png": "[encoded data removed]",
      "text/plain": [
       "<Figure size 432x288 with 1 Axes>"
      ]
     },
     "metadata": {},
     "output_type": "display_data"
    }
   ],
   "source": [
    "import numpy as np\n",
    "import pandas as pd\n",
    "from scipy.stats import norm, uniform\n",
    "from sklearn.neighbors import KNeighborsClassifier\n",
    "from sklearn.metrics import accuracy_score\n",
    "import seaborn as sns\n",
    "import matplotlib.pyplot as plt\n",
    "\n",
    "np.random.seed(0)\n",
    "\n",
    "# a)\n",
    "def sample_mixture(n, M):\n",
    "    \"\"\"Returns a sample of size n from a Gaussian mixture distribution that is the sum of 10 normal distributions with\n",
    "    means M and identical variance 0.1.\n",
    "    \"\"\"    \n",
    "    mean_sample = np.random.choice(M, replace=True, size=n)\n",
    "    mixture_sample = np.concatenate([norm.rvs(loc=mu, scale=0.1, size=1) for mu in mean_sample])\n",
    "    return(mixture_sample)\n",
    "\n",
    "# Generate means for the mixture distributions\n",
    "# Means for y = 0\n",
    "x1_0_mean = uniform.rvs(size=10)\n",
    "x2_0_mean = uniform.rvs(size=10)\n",
    "\n",
    "# Means for y = 0\n",
    "x1_1_mean = uniform.rvs(size=10)\n",
    "x2_1_mean = uniform.rvs(size=10)\n",
    "\n",
    "df = pd.DataFrame({'y': np.repeat(0, 500), 'x1': sample_mixture(500, x1_0_mean), 'x2': sample_mixture(500, x2_0_mean)})\n",
    "df = df.append(pd.DataFrame({'y': np.repeat(1, 500), 'x1': sample_mixture(500, x1_1_mean), 'x2': sample_mixture(500, x2_1_mean)}))\n",
    "\n",
    "# Generate noise variables\n",
    "for k in range(1, 101):\n",
    "    df['z%d' % k] = pd.Series(uniform.rvs(size=1000))\n",
    "\n",
    "    \n",
    "# Split data into training and test data\n",
    "msk = np.random.choice(len(df.index), size=500, replace=False)\n",
    "train = df.iloc[msk]\n",
    "test = df.iloc[~msk]\n",
    "\n",
    "\n",
    "# b) \n",
    "def calculate_error(n):\n",
    "    \"\"\"Calculate prediction error using k nearest neighbours with n additional noise variables.\n",
    "    \"\"\"\n",
    "    x = ['x1', 'x2'] + ['z%d' % i for i in range(1, n + 1)]\n",
    "    \n",
    "    nbrs = KNeighborsClassifier(n_neighbors=15).fit(X=train[x], y=train['y'])\n",
    "    \n",
    "    prediction = nbrs.predict(test[x])\n",
    "    \n",
    "    return(1 - accuracy_score(test['y'], prediction))\n",
    "\n",
    "\n",
    "# c) Plot prediction error against number of noise variables included\n",
    "sns.set_theme(style=\"whitegrid\")\n",
    "plot = sns.barplot(\n",
    "    x=[n for n in range(0, 101, 10)],\n",
    "    y=[calculate_error(n) for n in range(0, 101, 10)],\n",
    "    color='grey'\n",
    "    ).set(\n",
    "    xlabel='Number of noise variables',\n",
    "    ylabel='Classification Error Rate'\n",
    ")\n",
    "plt.savefig(\"Q 7.7 plot.png\")\n"
   ]
  },
  {
   "cell_type": "code",
   "execution_count": null,
   "metadata": {},
   "outputs": [],
   "source": []
  },
  {
   "cell_type": "code",
   "execution_count": null,
   "metadata": {},
   "outputs": [],
   "source": []
  }
 ],
 "metadata": {
  "kernelspec": {
   "display_name": "Python 3",
   "language": "python",
   "name": "python3"
  },
  "language_info": {
   "codemirror_mode": {
    "name": "ipython",
    "version": 3
   },
   "file_extension": ".py",
   "mimetype": "text/x-python",
   "name": "python",
   "nbconvert_exporter": "python",
   "pygments_lexer": "ipython3",
   "version": "3.8.5"
  }
 },
 "nbformat": 4,
 "nbformat_minor": 4
}
