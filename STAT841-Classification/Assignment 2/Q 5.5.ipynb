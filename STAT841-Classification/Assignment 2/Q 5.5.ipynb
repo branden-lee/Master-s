{
 "cells": [
  {
   "cell_type": "code",
   "execution_count": 17,
   "metadata": {},
   "outputs": [
    {
     "name": "stdout",
     "output_type": "stream",
     "text": [
      "Model                                             MSE\n",
      "-------------------------------------------  --------\n",
      "a) Linear Regression on all variables        12.4995\n",
      "b) Lasso with 10-fold CV                     10.4633\n",
      "c) Elastic Net with 10-fold CV               11.0304\n",
      "d) Linear Regression on important variables   9.91818\n"
     ]
    }
   ],
   "source": [
    "import numpy as np\n",
    "import pandas as pd\n",
    "from scipy.stats import multivariate_normal\n",
    "from sklearn.linear_model import LassoCV, ElasticNetCV, LinearRegression\n",
    "from tabulate import tabulate\n",
    "\n",
    "# For reproducability\n",
    "np.random.seed(0) \n",
    "\n",
    "# Generate 200 observations of 50 independent normallly distributied random variables\n",
    "d = multivariate_normal.rvs(mean=[0 for i in range(50)], size=200)\n",
    "\n",
    "# Create dataframe containing design matrix\n",
    "X = pd.DataFrame(data=d, columns=['x%d' % i for i in range(1, 51)])\n",
    "\n",
    "# Noise term for response\n",
    "eps = multivariate_normal.rvs(mean=0, cov=10, size=200)\n",
    "\n",
    "# True response\n",
    "y = X.apply(lambda x: np.dot(x[['x1','x2','x3']], [4, 3, -6]), axis=1) + eps\n",
    "\n",
    "# Sample without replacement of the row indices of X to create our training/test split\n",
    "training_indices = np.random.choice(200, size=100, replace=False)\n",
    "\n",
    "# Split up training and test data\n",
    "X_training = X.iloc[training_indices,:]\n",
    "y_training = y.iloc[training_indices]\n",
    "\n",
    "X_test = X.iloc[~training_indices,:]\n",
    "y_test = y.iloc[~training_indices]\n",
    "\n",
    "# Function to calculate MSE given observed and predicted values\n",
    "def mean_squared_error(observed, predictions):\n",
    "    diff = observed - predictions\n",
    "    rss = np.dot(diff, diff) / len(observed)\n",
    "    return(rss)\n",
    "\n",
    "## Fitting a linear regression model on all 50 covariates, predicting on training data and calculating MSE\n",
    "model_a = LinearRegression(fit_intercept=False).fit(X_training, y_training)\n",
    "y_a = model_a.predict(X_test)\n",
    "mse_a = mean_squared_error(y_test, y_a)\n",
    "\n",
    "## Fitting a lasso model with 10-fold cross validation, predicting on training data and calculating MSE\n",
    "model_b = LassoCV(fit_intercept=False, cv=10).fit(X_training, y_training)\n",
    "y_b = model_b.predict(X_test)\n",
    "mse_b = mean_squared_error(y_test, y_b)\n",
    "\n",
    "## Fitting an elastic net model with 10-fold cross validation, predicting on training data and calculating MSE\n",
    "model_c = ElasticNetCV(l1_ratio=.9, fit_intercept=False, cv=10).fit(X_training, y_training)\n",
    "y_c = model_c.predict(X_test)\n",
    "mse_c = mean_squared_error(y_test, y_c)\n",
    "\n",
    "## Fitting a linear regression model on only first three covariates, predicting on training data and calculating MSE\n",
    "model_d = LinearRegression(fit_intercept=False).fit(X_training[['x1','x2','x3']], y_training)\n",
    "y_d = model_d.predict(X_test[['x1','x2','x3']])\n",
    "mse_d = mean_squared_error(y_test, y_d)\n",
    "\n",
    "print(tabulate({\"Model\": [\"a) Linear Regression on all variables\", \"b) Lasso with 10-fold CV\", \"c) Elastic Net with 10-fold CV\",\n",
    "                         \"d) Linear Regression on important variables\"],\n",
    "                \"MSE\": [mse_a, mse_b, mse_c, mse_d]}, headers=\"keys\"))#, file=open('Q 5.5 output.txt', 'w'))"
   ]
  },
  {
   "cell_type": "code",
   "execution_count": null,
   "metadata": {},
   "outputs": [],
   "source": []
  }
 ],
 "metadata": {
  "kernelspec": {
   "display_name": "Python 3",
   "language": "python",
   "name": "python3"
  },
  "language_info": {
   "codemirror_mode": {
    "name": "ipython",
    "version": 3
   },
   "file_extension": ".py",
   "mimetype": "text/x-python",
   "name": "python",
   "nbconvert_exporter": "python",
   "pygments_lexer": "ipython3",
   "version": "3.8.5"
  }
 },
 "nbformat": 4,
 "nbformat_minor": 4
}
