{
 "cells": [
  {
   "cell_type": "code",
   "execution_count": 18,
   "metadata": {},
   "outputs": [],
   "source": [
    "import string\n",
    "from nltk.corpus import stopwords\n",
    "from nltk.tokenize import word_tokenize\n",
    "from nltk.stem.snowball import SnowballStemmer\n",
    "import numpy as np\n",
    "import pandas as pd\n",
    "from sklearn.naive_bayes import BernoulliNB\n",
    "from sklearn.model_selection import train_test_split, GridSearchCV\n",
    "from sklearn.metrics import accuracy_score, classification_report\n",
    "import matplotlib.pyplot as plt\n",
    "import seaborn as sns\n",
    "import numpy as np\n",
    "\n",
    "### Part a\n",
    "# Generate a matrix of indicator n-grams from a matrix of words using an inclusion threshold of 5.\n",
    "def token_matrix(data):\n",
    "    new_data = pd.DataFrame(index=range(len(data)))\n",
    "    for n in range(len(data)):\n",
    "        for word in data[n]:\n",
    "            if word not in new_data.columns:\n",
    "                new_data[word] = 0\n",
    "            new_data[word].iloc[n] += 1\n",
    "    col = new_data.columns[(new_data.sum(axis=0) >= 5) == True]\n",
    "    return new_data[col]\n",
    "\n",
    "# Create the data to fit the model on. Removes punctuation, normalizes to lower case letters and applies a stemmer.\n",
    "def process_text():\n",
    "    data = pd.read_csv('patient_joe_text.csv')\n",
    "    documents = []\n",
    "    word_counts = []\n",
    "    translations = dict((ord(char), \" \") for char in string.punctuation)\n",
    "    \n",
    "    stop_words = set(stopwords.words('dutch'))\n",
    "    stemmer = SnowballStemmer('dutch')\n",
    "    for i in range(len(data.index)): \n",
    "        clean_text = data.loc[i, 'text'].translate(translations).lower()   \n",
    "        word_list = clean_text.split()\n",
    "        word_counts.append(len(word_list))\n",
    "        words = [stemmer.stem(w) for w in word_list if w not in stop_words]      \n",
    "        documents.append(words)\n",
    "        \n",
    "    new_data = pd.concat([data['category'], pd.DataFrame({'word_count': word_counts}), token_matrix(documents)], axis=1)\n",
    "    return new_data\n",
    "\n",
    "df = process_text()"
   ]
  },
  {
   "cell_type": "code",
   "execution_count": 24,
   "metadata": {},
   "outputs": [
    {
     "name": "stderr",
     "output_type": "stream",
     "text": [
      "C:\\Users\\brand\\anaconda3\\lib\\site-packages\\sklearn\\naive_bayes.py:511: UserWarning: alpha too small will result in numeric errors, setting alpha = 1.0e-10\n",
      "  warnings.warn('alpha too small will result in numeric errors, '\n",
      "C:\\Users\\brand\\anaconda3\\lib\\site-packages\\sklearn\\naive_bayes.py:511: UserWarning: alpha too small will result in numeric errors, setting alpha = 1.0e-10\n",
      "  warnings.warn('alpha too small will result in numeric errors, '\n",
      "C:\\Users\\brand\\anaconda3\\lib\\site-packages\\sklearn\\naive_bayes.py:511: UserWarning: alpha too small will result in numeric errors, setting alpha = 1.0e-10\n",
      "  warnings.warn('alpha too small will result in numeric errors, '\n",
      "C:\\Users\\brand\\anaconda3\\lib\\site-packages\\sklearn\\naive_bayes.py:511: UserWarning: alpha too small will result in numeric errors, setting alpha = 1.0e-10\n",
      "  warnings.warn('alpha too small will result in numeric errors, '\n",
      "C:\\Users\\brand\\anaconda3\\lib\\site-packages\\sklearn\\naive_bayes.py:511: UserWarning: alpha too small will result in numeric errors, setting alpha = 1.0e-10\n",
      "  warnings.warn('alpha too small will result in numeric errors, '\n"
     ]
    },
    {
     "data": {
      "image/png": "[encoded data removed]",
      "text/plain": [
       "<Figure size 432x288 with 1 Axes>"
      ]
     },
     "metadata": {
      "needs_background": "light"
     },
     "output_type": "display_data"
    }
   ],
   "source": [
    "### Part b\n",
    "X_train, X_test, y_train, y_test = train_test_split(df.loc[:,df.columns!='category'], df['category'], test_size=.2, random_state=0)\n",
    "\n",
    "param_grid = {'alpha': np.linspace(0, 5, num=51), 'binarize': [0.5]}\n",
    "grid = GridSearchCV(BernoulliNB(), param_grid, scoring='accuracy')\n",
    "grid.fit(X_train, y_train)\n",
    "\n",
    "plot = sns.lineplot(x=param_grid['alpha'], y=grid.cv_results_['mean_test_score'])\n",
    "plot.set(xlabel='Smoothing Parameter', ylabel='Validation Accuracy')\n",
    "plt.savefig('Patient_Joe_Score_Plot.pdf')\n",
    "\n",
    "alpha = grid.best_params_['alpha']\n",
    "test_accuracy = accuracy_score(y_true=y_test, y_pred=grid.predict(X_test))"
   ]
  },
  {
   "cell_type": "code",
   "execution_count": null,
   "metadata": {},
   "outputs": [],
   "source": []
  }
 ],
 "metadata": {
  "kernelspec": {
   "display_name": "Python 3",
   "language": "python",
   "name": "python3"
  },
  "language_info": {
   "codemirror_mode": {
    "name": "ipython",
    "version": 3
   },
   "file_extension": ".py",
   "mimetype": "text/x-python",
   "name": "python",
   "nbconvert_exporter": "python",
   "pygments_lexer": "ipython3",
   "version": "3.8.5"
  }
 },
 "nbformat": 4,
 "nbformat_minor": 4
}
