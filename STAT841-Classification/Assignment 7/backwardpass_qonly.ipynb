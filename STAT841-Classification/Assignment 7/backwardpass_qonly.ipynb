{
 "cells": [
  {
   "cell_type": "code",
   "execution_count": 14,
   "metadata": {},
   "outputs": [
    {
     "data": {
      "text/plain": [
       "0.12185562249428221"
      ]
     },
     "execution_count": 14,
     "metadata": {},
     "output_type": "execute_result"
    }
   ],
   "source": [
    "import numpy as np\n",
    "\n",
    "xd = (1 + np.exp(-0.8 * 3 - 1.1 * (-2) - 0.1 * 5)) ** (-1)\n",
    "\n",
    "xe = (1 + np.exp(-0.3*3 - 0.5 * (-2) - 0.2 * 5)) ** (-1)\n",
    "\n",
    "yf = (1 + np.exp(-1.3 * xd - 0.4 * xe)) ** (-1)\n",
    "yf\n",
    "xd * yf * (1-yf)"
   ]
  },
  {
   "cell_type": "code",
   "execution_count": 15,
   "metadata": {},
   "outputs": [
    {
     "data": {
      "text/plain": [
       "1.3146188477010063"
      ]
     },
     "execution_count": 15,
     "metadata": {},
     "output_type": "execute_result"
    }
   ],
   "source": [
    "w7_new = 1.3-0.5*(-(1-yf)**2 * yf * xd)\n",
    "w7_new"
   ]
  },
  {
   "cell_type": "code",
   "execution_count": null,
   "metadata": {},
   "outputs": [],
   "source": []
  }
 ],
 "metadata": {
  "kernelspec": {
   "display_name": "Python 3",
   "language": "python",
   "name": "python3"
  },
  "language_info": {
   "codemirror_mode": {
    "name": "ipython",
    "version": 3
   },
   "file_extension": ".py",
   "mimetype": "text/x-python",
   "name": "python",
   "nbconvert_exporter": "python",
   "pygments_lexer": "ipython3",
   "version": "3.8.5"
  }
 },
 "nbformat": 4,
 "nbformat_minor": 4
}
