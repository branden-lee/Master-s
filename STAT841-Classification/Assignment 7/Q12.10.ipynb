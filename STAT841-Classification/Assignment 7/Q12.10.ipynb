{
 "cells": [
  {
   "cell_type": "code",
   "execution_count": 6,
   "metadata": {},
   "outputs": [],
   "source": [
    "from tabulate import tabulate\n",
    "import numpy as np\n",
    "import pandas as pd\n",
    "from sklearn.linear_model import LinearRegression\n",
    "from sklearn.svm import SVR\n",
    "from sklearn.model_selection import GridSearchCV, KFold\n",
    "from sklearn.metrics import mean_squared_error\n",
    "\n",
    "np.random.seed(0)\n",
    "\n",
    "X = pd.DataFrame({'x%d' % num: np.random.normal(size=1000) for num in range(1, 51)})\n",
    "y = -2 + 4 * X['x1'] - 3 * X['x2'] + 2 * X['x3'] + np.random.normal(size=1000)\n",
    "\n",
    "kf = KFold(shuffle=True, random_state=1)\n",
    "\n",
    "# Part a\n",
    "lr = GridSearchCV(LinearRegression(), param_grid={}, cv=kf, scoring='neg_mean_squared_error')\n",
    "lr.fit(X, y)\n",
    "lr_mspe = -lr.best_score_ # The mean cross validated score (mean_squared_error) of the best model"
   ]
  },
  {
   "cell_type": "code",
   "execution_count": 7,
   "metadata": {},
   "outputs": [],
   "source": [
    "# Part b\n",
    "svr_lk = GridSearchCV(SVR(), param_grid={'kernel': ['linear']}, cv=kf, scoring='neg_mean_squared_error')\n",
    "svr_lk.fit(X, y)\n",
    "svr_lk_mspe = -svr_lk.best_score_ # The mean cross validated score (mean_squared_error) of the best model"
   ]
  },
  {
   "cell_type": "code",
   "execution_count": 8,
   "metadata": {},
   "outputs": [],
   "source": [
    "# Part c\n",
    "rbf_untuned = GridSearchCV(SVR(), param_grid={'kernel': ['rbf']}, cv=kf, scoring='neg_mean_squared_error')\n",
    "rbf_untuned.fit(X, y)\n",
    "rbf_untuned_mspe = -rbf_untuned.best_score_ # The mean cross validated score (mean_squared_error) of the best model"
   ]
  },
  {
   "cell_type": "code",
   "execution_count": 9,
   "metadata": {},
   "outputs": [],
   "source": [
    "# Part d\n",
    "rbf_tuned = GridSearchCV(SVR(), param_grid={'kernel': ['rbf'], 'gamma':[0.1, .5, 1, 2, 5], 'C': [0.1, .5, 1, 2, 5], 'epsilon': [0.1, .5, 1, 2, 5]}, cv=kf, scoring='neg_mean_squared_error')\n",
    "rbf_tuned.fit(X, y)\n",
    "rbf_tuned_mse = -rbf_tuned.best_score_ # The mean cross validated score (mean_squared_error) of the best model"
   ]
  },
  {
   "cell_type": "code",
   "execution_count": 10,
   "metadata": {},
   "outputs": [],
   "source": [
    "print(tabulate(\n",
    "    {'Model': \n",
    "     ['a) Linear Regression', 'b) SVR with linear kernel', 'c) SVR with RBF kernel, untuned', 'd) SVR with RBF kernel, tuned'], \n",
    "     'MSE':\n",
    "     [lr_mspe, svr_lk_mspe, rbf_untuned_mspe, rbf_tuned_mse]},\n",
    "     headers=\"keys\"), file=open('Q 12.10 output.txt', 'w'))"
   ]
  },
  {
   "cell_type": "code",
   "execution_count": null,
   "metadata": {},
   "outputs": [],
   "source": []
  }
 ],
 "metadata": {
  "kernelspec": {
   "display_name": "Python 3",
   "language": "python",
   "name": "python3"
  },
  "language_info": {
   "codemirror_mode": {
    "name": "ipython",
    "version": 3
   },
   "file_extension": ".py",
   "mimetype": "text/x-python",
   "name": "python",
   "nbconvert_exporter": "python",
   "pygments_lexer": "ipython3",
   "version": "3.8.5"
  }
 },
 "nbformat": 4,
 "nbformat_minor": 4
}
