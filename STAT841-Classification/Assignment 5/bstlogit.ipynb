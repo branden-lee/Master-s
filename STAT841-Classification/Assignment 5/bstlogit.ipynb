{
 "cells": [
  {
   "cell_type": "code",
   "execution_count": 16,
   "metadata": {},
   "outputs": [
    {
     "data": {
      "image/png": "[encoded data removed]",
      "text/plain": [
       "<Figure size 432x288 with 1 Axes>"
      ]
     },
     "metadata": {
      "needs_background": "light"
     },
     "output_type": "display_data"
    }
   ],
   "source": [
    "import pandas as pd\n",
    "import numpy as np\n",
    "import matplotlib.pyplot as plt\n",
    "import seaborn as sns\n",
    "from sklearn.linear_model import LogisticRegression\n",
    "from sklearn.ensemble import GradientBoostingClassifier\n",
    "from sklearn.metrics import roc_auc_score\n",
    "from sklearn.model_selection import StratifiedKFold\n",
    "from scipy.stats import t\n",
    "from tabulate import tabulate\n",
    "\n",
    "np.random.seed(0)\n",
    "\n",
    "df = pd.DataFrame({'x1': np.random.normal(0, size=1000), 'x2': np.random.normal(0, size=1000), 'x3': np.random.normal(0, size=1000)})\n",
    "p = 1 / (1 + np.exp(.1 - .5 * df['x1'] - .3 * df['x2'] + .4 * df['x3']))\n",
    "df['y'] = np.concatenate(p.apply(lambda x: np.random.binomial(1, x, 1)))\n",
    "\n",
    "## Parts a and b\n",
    "# Split data into 5 folds\n",
    "skf = StratifiedKFold(n_splits=5, shuffle=True, random_state=1)\n",
    "split = skf.split(df[['x1', 'x2', 'x3']], df['y'])\n",
    "auc_scores_a, auc_scores_b = [], []\n",
    "\n",
    "for train_index, test_index in split:\n",
    "    X_train, y_train = df.loc[train_index, ['x1', 'x2', 'x3']], df.loc[train_index,'y']\n",
    "    X_test, y_test = df.loc[test_index, ['x1', 'x2', 'x3']], df.loc[test_index, 'y']\n",
    "    \n",
    "    logistic_model = LogisticRegression(penalty='none').fit(X_train, y_train)\n",
    "    boosting_model = GradientBoostingClassifier().fit(X_train, y_train)\n",
    "    auc_scores_a.append(roc_auc_score(y_test, logistic_model.predict(X_test)))\n",
    "    auc_scores_b.append(roc_auc_score(y_test, boosting_model.predict(X_test)))\n",
    "\n",
    "std_dev_a = np.std(auc_scores_a)\n",
    "std_dev_b = np.std(auc_scores_b)\n",
    "\n",
    "print(tabulate(\n",
    "    {'Fold': range(1, 6),\n",
    "     'Logistic AUC score': auc_scores_a,\n",
    "     'Boosting AUC score': auc_scores_b},\n",
    "     headers=\"keys\"), file=open('bstlogit ab 1.txt', 'w'))\n",
    "\n",
    "print(tabulate(\n",
    "    {'Model': ['Logistic', 'Boosting'],\n",
    "     'AUC Standard deviation': [std_dev_a, std_dev_b]},\n",
    "     headers=\"keys\"), file=open('bstlogit ab 2.txt', 'w'))\n",
    "\n",
    "# Part c\n",
    "auc_df = pd.DataFrame({'AUC': auc_scores_a + auc_scores_b,\n",
    "                       'fold': [n for k in range(0,2) for n in range(1,6)],\n",
    "                      'Model': ['Logistic' for n in range(5)] + ['Boosting' for n in range(5)]})\n",
    "sns.scatterplot(data=auc_df, x='fold', y='AUC', hue='Model')\n",
    "plt.savefig(fname='bstlogit.png')\n",
    "\n",
    "# Part d\n",
    "score_difference = [auc_scores_a[i] - auc_scores_b[i] for i in range(5)]\n",
    "mean = np.mean(score_difference)\n",
    "sd = np.std(score_difference)\n",
    "statistic = mean / (sd / 5 ** .5)\n",
    "t_0 = t.ppf(.975, df=4)"
   ]
  },
  {
   "cell_type": "code",
   "execution_count": null,
   "metadata": {},
   "outputs": [],
   "source": []
  }
 ],
 "metadata": {
  "kernelspec": {
   "display_name": "Python 3",
   "language": "python",
   "name": "python3"
  },
  "language_info": {
   "codemirror_mode": {
    "name": "ipython",
    "version": 3
   },
   "file_extension": ".py",
   "mimetype": "text/x-python",
   "name": "python",
   "nbconvert_exporter": "python",
   "pygments_lexer": "ipython3",
   "version": "3.8.5"
  }
 },
 "nbformat": 4,
 "nbformat_minor": 4
}
